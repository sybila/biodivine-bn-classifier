{
 "cells": [
  {
   "cell_type": "markdown",
   "metadata": {
    "pycharm": {
     "name": "#%% md\n"
    }
   },
   "source": [
    "# BNClassifier Tutorial"
   ]
  },
  {
   "cell_type": "markdown",
   "metadata": {
    "pycharm": {
     "name": "#%% md\n"
    }
   },
   "source": [
    "This notebook illustrates the workflow of `BNClassifier`. We present the workflow on a case study using a PSBN model of the MAPK pathway, as described in Section 6.1 of the paper.\n",
    "\n",
    "We give a step-by-step guide on how to replicate the results and observations. In the first part, we show how to run the classification and explore its inputs/outputs by executing the Python cells of this notebook. In the second part, we illustrate the GUI capabilities, providing animation, screenshots and commentaries. Please refer to the enclosed `Manual` for more information on the tool."
   ]
  },
  {
   "cell_type": "markdown",
   "metadata": {},
   "source": [
    "First, please read the installation instructions provided in the main README.\n",
    "\n",
    "After everything is successfully set up, start executing the following cells, one by one, to run the classification process."
   ]
  },
  {
   "cell_type": "code",
   "execution_count": 1,
   "metadata": {
    "pycharm": {
     "name": "#%%\n"
    }
   },
   "outputs": [],
   "source": [
    "# load modules\n",
    "import subprocess\n",
    "\n",
    "from pathlib import Path\n",
    "from biodivine_aeon import *"
   ]
  },
  {
   "cell_type": "markdown",
   "metadata": {
    "pycharm": {
     "name": "#%% md\n"
    }
   },
   "source": [
    "## Exploring the input\n",
    "\n",
    "We first demonstrate what the input for the HCTL classification looks like. It is essentially a combination of:\n",
    "- A partially specified Boolean network and corresponding influences.\n",
    "- Required properties (HCTL formulae) which restrict the set of valid model interpretations.\n",
    "- Classification properties (HCTL formulae) that are used to classify the valid models.\n",
    "\n",
    "We can explore the PSBN model and its properties:"
   ]
  },
  {
   "cell_type": "code",
   "execution_count": 2,
   "metadata": {
    "pycharm": {
     "name": "#%%\n"
    }
   },
   "outputs": [
    {
     "name": "stdout",
     "output_type": "stream",
     "text": [
      "BooleanNetwork(variables = 18, parameters = 0, regulations = 60)\n"
     ]
    }
   ],
   "source": [
    "input_path = Path(\"case-study-mapk\") / \"mapk-annotated.aeon\"\n",
    "bn = BooleanNetwork.from_file(str(input_path))\n",
    "print(bn)"
   ]
  },
  {
   "cell_type": "code",
   "execution_count": 3,
   "metadata": {
    "pycharm": {
     "name": "#%%\n"
    }
   },
   "outputs": [
    {
     "name": "stdout",
     "output_type": "stream",
     "text": [
      "Required property:\t 3{x}: @{x}: ((AG EF {x}) & (Apoptosis | Growth_Arrest | Proliferation))\n",
      "\n",
      "Classification property named `p1`:\t V{x}: @{x}: ((AG EF {x}) => ((AX {x}) & Apoptosis))\n",
      "Classification property named `p2`:\t 3{x}: @{x}: (AG Growth_Arrest)\n",
      "Classification property named `p3`:\t 3{x}: @{x}: (AG Proliferation)\n",
      "Classification property named `p4`:\t 3{x}: @{x}: ((AG EF {x}) & Apoptosis & Proliferation)\n"
     ]
    }
   ],
   "source": [
    "model_string = input_path.read_text(encoding=\"utf-8\")\n",
    "annotations = ModelAnnotation.from_model_string(model_string)\n",
    "required_properties = get_model_assertions(annotations)\n",
    "classification_properties = get_model_properties(annotations)\n",
    "\n",
    "for prop in required_properties:\n",
    "    print(\"Required property:\\t\", prop)\n",
    "print()\n",
    "for (name, prop) in classification_properties:\n",
    "    print(f\"Classification property named `{name}`:\\t\", prop)"
   ]
  },
  {
   "cell_type": "markdown",
   "metadata": {
    "pycharm": {
     "name": "#%% md\n"
    }
   },
   "source": [
    "The required properties are given as plain HCTL formulae (in our case, it is a single formula). On the other hand, classification properties also have names, which are used in the post-processing of the classification results (as we'll see later). The format of the input is further described in the tool's Manual.iour)."
   ]
  },
  {
   "cell_type": "markdown",
   "metadata": {},
   "source": [
    "To reiterate, these properties mean the following:\n",
    "- `p1`: Every attractor state is a fixed point with Apoptosis active (the system always converges to programmed cell death; \"healthy\" behaviour).\n",
    "- `p2`, `p3`: Growth Arrest (`p2`) or Proliferation (`p3`) remain active in some attractor (programmed cell death may not be achieved; possibly \"problematic\" behaviour).\n",
    "- `p4`: Proliferation and Apoptosis are simultaneously active in an attractor state (biologically \"unrealistic\" behaviour)."
   ]
  },
  {
   "cell_type": "markdown",
   "metadata": {
    "pycharm": {
     "name": "#%% md\n"
    }
   },
   "source": [
    "## Running the classification engine"
   ]
  },
  {
   "cell_type": "markdown",
   "metadata": {
    "pycharm": {
     "name": "#%% md\n"
    }
   },
   "source": [
    "The classifier categorizes PSBN interpretations into classes based on the properties they satisfy. First, only the interpretations satisfying all required properties are computed. The set of remaining interpretations is decomposed into categories, where each class contains interpretations that (universally) satisfy the same set of properties.\n",
    "\n",
    "It is fairly straightforward to run the classification from Jupyter notebooks. You provide a path to the input file with an annotated model and a path for the result bundle. Everything else is handled internally.\n",
    "\n",
    "Note that this step might take a few minutes. The time depends on the machine, but it should generally be around 1-3 minutes."
   ]
  },
  {
   "cell_type": "code",
   "execution_count": 4,
   "metadata": {
    "pycharm": {
     "name": "#%%\n"
    }
   },
   "outputs": [
    {
     "name": "stdout",
     "output_type": "stream",
     "text": [
      "Loaded model and properties out of `case-study-mapk/mapk-annotated.aeon`.\n",
      "Parsing formulae and generating symbolic representation...\n",
      "Successfully parsed all 1 required property (assertion) and all 4 classification properties.\n",
      "Successfully encoded model with 18 variables and 4 parameters.\n",
      "Model admits 16 instances.\n",
      "Evaluating required properties (this may take some time)...\n",
      "Required properties successfully evaluated.\n",
      "15 instances satisfy all required properties.\n",
      "Evaluating classification properties (this may take some time)...\n",
      "Classification properties successfully evaluated.\n",
      "Generating classification mapping based on model-checking results...\n",
      "Results saved to `classification-archive.zip`.\n"
     ]
    }
   ],
   "source": [
    "output_zip = \"classification-archive.zip\"\n",
    "run_hctl_classification(str(input_path), output_zip)"
   ]
  },
  {
   "cell_type": "markdown",
   "metadata": {},
   "source": [
    "The result is a `zip-archive` with:\n",
    "- A text report regarding the whole classification procedure.\n",
    "- Raw BDD files encoding each non-empty class.\n",
    "- The original annotated input model (to reconstruct the results if needed)."
   ]
  },
  {
   "cell_type": "markdown",
   "metadata": {
    "pycharm": {
     "name": "#%% md\n"
    }
   },
   "source": [
    "Before loading the output bundle into our interactive GUI explorer, we show how to directly obtain general information about the results. We can load the dictionary with all categories - a map of `string -> color set` pairs (colors representing individual interpretations). The string \"key\" represents a binary encoding of which properties are satisfied by the particular class (in this encoding, properties are ordered alphabetically). We can further analyse the results in Python, but that is out of the scope of this tutorial."
   ]
  },
  {
   "cell_type": "code",
   "execution_count": 5,
   "metadata": {
    "pycharm": {
     "name": "#%%\n"
    }
   },
   "outputs": [
    {
     "name": "stdout",
     "output_type": "stream",
     "text": [
      "{'1100': ColorSet(cardinality=9), '0001': ColorSet(cardinality=3), '0100': ColorSet(cardinality=3)}\n"
     ]
    }
   ],
   "source": [
    "class_mapping, original_model_str = load_class_archive(output_zip)\n",
    "print(class_mapping)"
   ]
  },
  {
   "cell_type": "markdown",
   "metadata": {},
   "source": [
    "Here, for example:\n",
    "- 9 colors satisfy properties `p1` and `p2` simulataneously.\n",
    "- 3 colors satisfy only `p2`\n",
    "- 3 colors satisfy only `p4`\n",
    "- No color satisfies property `p3`"
   ]
  },
  {
   "cell_type": "markdown",
   "metadata": {
    "pycharm": {
     "name": "#%% md\n"
    }
   },
   "source": [
    "## Exploring the results in GUI"
   ]
  },
  {
   "cell_type": "markdown",
   "metadata": {},
   "source": [
    "Let's analyze the results in the Decision Tree Explorer GUI. Before starting the GUI, you can watch a summary of all the steps (that we'll go through later) in the following GIF animation. Once it finishes (less than 1 minute), feel free to follow the step-by-step guide with commentary below it. Note that the animation loops."
   ]
  },
  {
   "cell_type": "markdown",
   "metadata": {},
   "source": [
    "![GIF-animation](images/Animation.gif)"
   ]
  },
  {
   "cell_type": "markdown",
   "metadata": {},
   "source": [
    "To start the GUI, please run the following cell. It executes the provided binary."
   ]
  },
  {
   "cell_type": "code",
   "execution_count": 6,
   "metadata": {},
   "outputs": [],
   "source": [
    "#subprocess.run([\"decision-tree-explorer\"])"
   ]
  },
  {
   "cell_type": "markdown",
   "metadata": {},
   "source": [
    "You should see the following screen with simple navigation instructions. At the same time, a File Dialog should open. Select the results bundle `classification-archive.zip` that we generated in the previous section."
   ]
  },
  {
   "cell_type": "markdown",
   "metadata": {
    "pycharm": {
     "name": "#%%\n"
    }
   },
   "source": [
    "![Initial layout](images/1.png)"
   ]
  },
  {
   "cell_type": "markdown",
   "metadata": {},
   "source": [
    "![Dialog](images/2.png)"
   ]
  },
  {
   "cell_type": "markdown",
   "metadata": {},
   "source": [
    "The tree's root node with the text `Mixed outcomes (3 types)` should appear. By scrolling, you can zoom it out. You can move the node across the screen by dragging (at the empty space). "
   ]
  },
  {
   "cell_type": "markdown",
   "metadata": {},
   "source": [
    "![Loaded-root](images/2_3.png)"
   ]
  },
  {
   "cell_type": "markdown",
   "metadata": {},
   "source": [
    "Once you adjust the node's size and position, click on the node. On the left, a panel describing the node should appear (see following image). In this panel, you can see: \n",
    "\n",
    "- The root node represents interpretations of three different classes. For each class (\"behaviour\"), we see which properties it corresponds to, how many interpretations (witnesses) it represents, and what percentage of total number of interpretations it is. Particularly, nine interpretations satisfy properties `p1` and `p2`, three satisfy only `p2`, and three only `p4` (as we have seen before).\n",
    "- Property `p3` is `universally invalid` in the whole tree - no interpretation satisfies it."
   ]
  },
  {
   "cell_type": "markdown",
   "metadata": {},
   "source": [
    "![Root-panel](images/3.png)"
   ]
  },
  {
   "cell_type": "markdown",
   "metadata": {},
   "source": [
    "The tool offers two ways to expand the node - automatically and manually. First, to try out the manual expanding, click on the `Make decision` button. Several possible `Decision Attributes` appear."
   ]
  },
  {
   "cell_type": "markdown",
   "metadata": {},
   "source": [
    "![Click-manual-expand](images/4.png)"
   ]
  },
  {
   "cell_type": "markdown",
   "metadata": {},
   "source": [
    "Decision attributes can be sorted by several metrics. More on that in the Manual. Select the second item, `DNA_damage`."
   ]
  },
  {
   "cell_type": "markdown",
   "metadata": {},
   "source": [
    "![Click-decision-dna](images/5.png)"
   ]
  },
  {
   "cell_type": "markdown",
   "metadata": {},
   "source": [
    "The tree should now expand - the root node becomes a `decision node` labelled by `DNA_damage`, and two new mixed nodes appear."
   ]
  },
  {
   "cell_type": "markdown",
   "metadata": {},
   "source": [
    "We refer to child nodes as \"positive\" (the one to which the green arrow points) and \"negative\" (the one to which the red arrow points). The positive child node represents interpretations where the parameter `DNA_damage` is set to `True`.\n",
    "Note that the tree layout algorithm is non-deterministic, and therefore, the side of the branches may be switched.\n",
    "Sometimes, the child nodes switch positions during tree expansion to allow for a better layout.\n",
    "\n",
    "Let's focus on the negative `Mixed` child node (on a \"red path\" from the root). Select the node."
   ]
  },
  {
   "cell_type": "markdown",
   "metadata": {},
   "source": [
    "![Expanded-tree-v1](images/6.png)"
   ]
  },
  {
   "cell_type": "markdown",
   "metadata": {},
   "source": [
    "On the left, a different panel should appear again. We see that this node now represents only two different classes. Thus, when `DNA_damage` is set to `False`, we can no longer reach a class where `p2` is satisfied and `p1` is not.\n",
    "\n",
    "Click on the button `Auto expand (1 level)`, automatically choosing a decision attribute for this node and expanding it."
   ]
  },
  {
   "cell_type": "markdown",
   "metadata": {},
   "source": [
    "![Level1-negativeNode-panel](images/7.png)"
   ]
  },
  {
   "cell_type": "markdown",
   "metadata": {},
   "source": [
    "The tree should again expand - the selected node becomes a `decision node` labelled by `TGFBR_stimulus`, and two new nodes appear. \n",
    "\n",
    "The new nodes are both leaf nodes. They each represent a subset of interpretations of a single class. To see more, click on the leaf node labelled by `p4 (3)`. From the node's label, we see that it represents three interpretations that satisfy a single classification property `p4`. "
   ]
  },
  {
   "cell_type": "markdown",
   "metadata": {},
   "source": [
    "![Expanded-tree-v2](images/8.png)"
   ]
  },
  {
   "cell_type": "markdown",
   "metadata": {},
   "source": [
    "A different panel on the left should appear, as shown below. There, we see a set of `Necessary conditions` to reach the node. These correspond to the path from the root node. In particular, both `TGFBR_stimulus` and `DNA_damage` must be set to `False` (denoted by the red colour).\n",
    "\n",
    "Properties satisfied in the node are also highlighted. In this case, all three BN instances represented by the node admit attractors where `Apoptosis` and `Proliferation` are active at the same time.\n",
    "\n",
    "In a leaf node, you can generate `witness networks` (BN instances). Click on `Generate network(s)` button to export a particular BN instance. A `File save dialog` should appear."
   ]
  },
  {
   "cell_type": "markdown",
   "metadata": {},
   "source": [
    "![Witness-generating](images/9.png)"
   ]
  },
  {
   "cell_type": "markdown",
   "metadata": {},
   "source": [
    "Now, let's automatically expand the rest of the tree. Click on the remaining `Mixed outcomes` node. In the panel that appears (see below), change the depth of `Automatic tree expansion` to 3 using the `Depth` toggle (there is a maximum of 3 remaining decision attributes)."
   ]
  },
  {
   "cell_type": "markdown",
   "metadata": {},
   "source": [
    "![Auto-expand-toggle](images/10.png)"
   ]
  },
  {
   "cell_type": "markdown",
   "metadata": {},
   "source": [
    " Click on the button `Auto expand (3 levels)`."
   ]
  },
  {
   "cell_type": "markdown",
   "metadata": {},
   "source": [
    "![Auto-expand-3-levels](images/11.png)"
   ]
  },
  {
   "cell_type": "markdown",
   "metadata": {},
   "source": [
    "The tree fully expands, as shown below (note that some branches might potentially be mirrored, as discussed above)."
   ]
  },
  {
   "cell_type": "markdown",
   "metadata": {},
   "source": [
    "![Fully-expanded-tree](images/12.png)"
   ]
  },
  {
   "cell_type": "markdown",
   "metadata": {},
   "source": [
    "We can now explore the conditions leading to the validity of individual properties. In particular, we see that the property `p4` occurs if and only if both `DNA_damage` and `TGFBR_stimulus` are inactive. The decision tree also guides us towards conditions that ensure proper programmed cell death (`p1`). For example, we see that the presence of `TGFBR_stimulus` is a sufficient condition for `p1`."
   ]
  },
  {
   "cell_type": "markdown",
   "metadata": {},
   "source": [
    "We can also export the current tree in the `dot` format. Click on the `Export decision tree` button in the lower left corner. A `File save dialog` should appear."
   ]
  },
  {
   "cell_type": "markdown",
   "metadata": {},
   "source": [
    "![Export](images/13.png)"
   ]
  },
  {
   "cell_type": "markdown",
   "metadata": {},
   "source": [
    "And this concludes the Tutorial. The tool's `Manual` gives further information on the GUI details."
   ]
  },
  {
   "cell_type": "code",
   "execution_count": null,
   "metadata": {},
   "outputs": [],
   "source": []
  }
 ],
 "metadata": {
  "kernelspec": {
   "display_name": "Python 3 (ipykernel)",
   "language": "python",
   "name": "python3"
  },
  "language_info": {
   "codemirror_mode": {
    "name": "ipython",
    "version": 3
   },
   "file_extension": ".py",
   "mimetype": "text/x-python",
   "name": "python",
   "nbconvert_exporter": "python",
   "pygments_lexer": "ipython3",
   "version": "3.8.10"
  }
 },
 "nbformat": 4,
 "nbformat_minor": 4
}
